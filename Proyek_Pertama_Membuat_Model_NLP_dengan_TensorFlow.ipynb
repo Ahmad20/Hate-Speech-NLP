{
  "nbformat": 4,
  "nbformat_minor": 0,
  "metadata": {
    "colab": {
      "name": "Proyek Pertama : Membuat Model NLP dengan TensorFlow.ipynb",
      "provenance": [],
      "collapsed_sections": [],
      "authorship_tag": "ABX9TyMbK3yfjjQOlRHWnp9pFQ7K",
      "include_colab_link": true
    },
    "kernelspec": {
      "name": "python3",
      "display_name": "Python 3"
    },
    "language_info": {
      "name": "python"
    }
  },
  "cells": [
    {
      "cell_type": "markdown",
      "metadata": {
        "id": "view-in-github",
        "colab_type": "text"
      },
      "source": [
        "<a href=\"https://colab.research.google.com/github/Ahmad20/Hate-Speech-NLP/blob/main/Proyek_Pertama_Membuat_Model_NLP_dengan_TensorFlow.ipynb\" target=\"_parent\"><img src=\"https://colab.research.google.com/assets/colab-badge.svg\" alt=\"Open In Colab\"/></a>"
      ]
    },
    {
      "cell_type": "markdown",
      "metadata": {
        "id": "oWhgsZmjTngb"
      },
      "source": [
        "#Get Data"
      ]
    },
    {
      "cell_type": "code",
      "metadata": {
        "colab": {
          "base_uri": "https://localhost:8080/",
          "height": 204
        },
        "id": "qN8BLw4kR1PI",
        "outputId": "dee45bda-4c1f-4685-e3dc-6f4d058a05f6"
      },
      "source": [
        "#Library panda\n",
        "import pandas as pd\n",
        "#Mendapatkan data\n",
        "df = pd.read_csv(\"https://raw.githubusercontent.com/Ahmad20/Hate-Speech-NLP/main/labeled_data.csv\")\n",
        "df.head()"
      ],
      "execution_count": 3,
      "outputs": [
        {
          "output_type": "execute_result",
          "data": {
            "text/html": [
              "<div>\n",
              "<style scoped>\n",
              "    .dataframe tbody tr th:only-of-type {\n",
              "        vertical-align: middle;\n",
              "    }\n",
              "\n",
              "    .dataframe tbody tr th {\n",
              "        vertical-align: top;\n",
              "    }\n",
              "\n",
              "    .dataframe thead th {\n",
              "        text-align: right;\n",
              "    }\n",
              "</style>\n",
              "<table border=\"1\" class=\"dataframe\">\n",
              "  <thead>\n",
              "    <tr style=\"text-align: right;\">\n",
              "      <th></th>\n",
              "      <th>Unnamed: 0</th>\n",
              "      <th>count</th>\n",
              "      <th>hate_speech</th>\n",
              "      <th>offensive_language</th>\n",
              "      <th>neither</th>\n",
              "      <th>class</th>\n",
              "      <th>tweet</th>\n",
              "    </tr>\n",
              "  </thead>\n",
              "  <tbody>\n",
              "    <tr>\n",
              "      <th>0</th>\n",
              "      <td>0</td>\n",
              "      <td>3</td>\n",
              "      <td>0</td>\n",
              "      <td>0</td>\n",
              "      <td>3</td>\n",
              "      <td>2</td>\n",
              "      <td>!!! RT @mayasolovely: As a woman you shouldn't...</td>\n",
              "    </tr>\n",
              "    <tr>\n",
              "      <th>1</th>\n",
              "      <td>1</td>\n",
              "      <td>3</td>\n",
              "      <td>0</td>\n",
              "      <td>3</td>\n",
              "      <td>0</td>\n",
              "      <td>1</td>\n",
              "      <td>!!!!! RT @mleew17: boy dats cold...tyga dwn ba...</td>\n",
              "    </tr>\n",
              "    <tr>\n",
              "      <th>2</th>\n",
              "      <td>2</td>\n",
              "      <td>3</td>\n",
              "      <td>0</td>\n",
              "      <td>3</td>\n",
              "      <td>0</td>\n",
              "      <td>1</td>\n",
              "      <td>!!!!!!! RT @UrKindOfBrand Dawg!!!! RT @80sbaby...</td>\n",
              "    </tr>\n",
              "    <tr>\n",
              "      <th>3</th>\n",
              "      <td>3</td>\n",
              "      <td>3</td>\n",
              "      <td>0</td>\n",
              "      <td>2</td>\n",
              "      <td>1</td>\n",
              "      <td>1</td>\n",
              "      <td>!!!!!!!!! RT @C_G_Anderson: @viva_based she lo...</td>\n",
              "    </tr>\n",
              "    <tr>\n",
              "      <th>4</th>\n",
              "      <td>4</td>\n",
              "      <td>6</td>\n",
              "      <td>0</td>\n",
              "      <td>6</td>\n",
              "      <td>0</td>\n",
              "      <td>1</td>\n",
              "      <td>!!!!!!!!!!!!! RT @ShenikaRoberts: The shit you...</td>\n",
              "    </tr>\n",
              "  </tbody>\n",
              "</table>\n",
              "</div>"
            ],
            "text/plain": [
              "   Unnamed: 0  count  ...  class                                              tweet\n",
              "0           0      3  ...      2  !!! RT @mayasolovely: As a woman you shouldn't...\n",
              "1           1      3  ...      1  !!!!! RT @mleew17: boy dats cold...tyga dwn ba...\n",
              "2           2      3  ...      1  !!!!!!! RT @UrKindOfBrand Dawg!!!! RT @80sbaby...\n",
              "3           3      3  ...      1  !!!!!!!!! RT @C_G_Anderson: @viva_based she lo...\n",
              "4           4      6  ...      1  !!!!!!!!!!!!! RT @ShenikaRoberts: The shit you...\n",
              "\n",
              "[5 rows x 7 columns]"
            ]
          },
          "metadata": {},
          "execution_count": 3
        }
      ]
    },
    {
      "cell_type": "code",
      "metadata": {
        "colab": {
          "base_uri": "https://localhost:8080/"
        },
        "id": "f7QC_cpFUzT_",
        "outputId": "f041e231-a099-43ee-d004-6bb60ed8ef17"
      },
      "source": [
        "#@markdown Dataset yang akan dipakai bebas, namun minimal memiliki 1000 sampel.\n",
        "df.shape"
      ],
      "execution_count": 5,
      "outputs": [
        {
          "output_type": "execute_result",
          "data": {
            "text/plain": [
              "(24783, 7)"
            ]
          },
          "metadata": {},
          "execution_count": 5
        }
      ]
    },
    {
      "cell_type": "markdown",
      "metadata": {
        "id": "JuGrjBmfTslI"
      },
      "source": [
        "#Data Split"
      ]
    },
    {
      "cell_type": "code",
      "metadata": {
        "id": "ODL3CPu7TfSQ"
      },
      "source": [
        "#Hanya menggunakan kolom tweet dan class\n",
        "df = df[['tweet','class']]\n",
        "#Mendapatkan data dummy dari kolom class\n",
        "label=pd.get_dummies(df['class'])\n",
        "#Drop kolom class karena sudah memiliki dummy==>tersisa kolom tweet\n",
        "df=df.drop('class',axis=1,inplace=False)\n",
        "#Menggabungkan kolom tweet dan data dummy class\n",
        "df = pd.concat([df,label],axis=1)\n",
        "#Mendapatkan value dari kolom tweet berupa array\n",
        "tweet = df['tweet'].values\n",
        "#Mendapatkan value dari kolom-kolom dummy class berupa array\n",
        "cat = df.drop('tweet',axis=1, inplace=False).values"
      ],
      "execution_count": 6,
      "outputs": []
    },
    {
      "cell_type": "markdown",
      "metadata": {
        "id": "dfD1eA7cUMrF"
      },
      "source": [
        "#Train Test Split"
      ]
    },
    {
      "cell_type": "code",
      "metadata": {
        "id": "xfyFSpCbThsI"
      },
      "source": [
        "#@markdown Validation set sebesar 20% dari total dataset.\n",
        "from sklearn.model_selection import train_test_split\n",
        "#Membagi data test 20% dan data train 80%\n",
        "tweet_latih, tweet_test, cat_latih, cat_test=train_test_split(\n",
        "    tweet, cat, test_size=0.2)"
      ],
      "execution_count": 7,
      "outputs": []
    },
    {
      "cell_type": "markdown",
      "metadata": {
        "id": "DvLhvPpEUQUA"
      },
      "source": [
        "#Tokenizer Sentences"
      ]
    },
    {
      "cell_type": "code",
      "metadata": {
        "id": "RK4nTm5xTklI"
      },
      "source": [
        "#@markdown Harus menggunakan fungsi tokenizer.\n",
        "from tensorflow.keras.preprocessing.text import Tokenizer\n",
        "from tensorflow.keras.preprocessing.sequence import pad_sequences\n",
        "#Membatasi jumlah kata menjadi 5000 dan pengganti\n",
        "# kata yang tidak termasuk list menjadi x\n",
        "tokenizer = Tokenizer(num_words=5000, oov_token='x')\n",
        "#Mengaplikasikan token pada tweet_latih dan tweet_test\n",
        "tokenizer.fit_on_texts(tweet_latih)\n",
        "tokenizer.fit_on_texts(tweet_test)\n",
        "#Convert text menjadi sequence\n",
        "sekuens_latih = tokenizer.texts_to_sequences(tweet_latih)\n",
        "sekuens_test = tokenizer.texts_to_sequences(tweet_test)\n",
        "#Convert sequence menjadi 2D Numpy array dengan pad_sequences\n",
        "padded_latih = pad_sequences(sekuens_latih)\n",
        "padded_test = pad_sequences(sekuens_test)"
      ],
      "execution_count": 8,
      "outputs": []
    },
    {
      "cell_type": "markdown",
      "metadata": {
        "id": "2vK_9c9CUWB_"
      },
      "source": [
        "#Model"
      ]
    },
    {
      "cell_type": "code",
      "metadata": {
        "id": "hab_A_ZzTmOg"
      },
      "source": [
        "#@markdown Harus menggunakan model sequential.\\\n",
        "#@markdown Harus menggunakan Embedding.\\\n",
        "#@markdown Harus menggunakan LSTM dalam arsitektur model.\n",
        "#Library TensorFlow\n",
        "import tensorflow as tfw\n",
        "#Assign model\n",
        "model = tfw.keras.Sequential([\n",
        "                             tfw.keras.layers.Embedding(input_dim=5000, \n",
        "                                                        output_dim=16),\n",
        "                             tfw.keras.layers.LSTM(64),\n",
        "                             tfw.keras.layers.Dense(128, activation=\"relu\"),\n",
        "                             tfw.keras.layers.Dense(64, activation=\"relu\"),\n",
        "                             tfw.keras.layers.Dense(3, activation=\"softmax\")\n",
        "])\n",
        "#Compile Model\n",
        "model.compile(loss='categorical_crossentropy', optimizer='adam', metrics=['accuracy'])"
      ],
      "execution_count": 9,
      "outputs": []
    },
    {
      "cell_type": "code",
      "metadata": {
        "colab": {
          "base_uri": "https://localhost:8080/"
        },
        "id": "YrvgP1YLVx94",
        "outputId": "b76c5328-97bb-4e70-a8b4-926d19e0e6d2"
      },
      "source": [
        "#@markdown Akurasi dari model minimal 75%.\n",
        "#Jumlah loop model\n",
        "num_epochs = 40\n",
        "#Menjalankan model\n",
        "history = model.fit(padded_latih, cat_latih, epochs=num_epochs,\n",
        "                    validation_data=(padded_test, cat_test),verbose=2)"
      ],
      "execution_count": 10,
      "outputs": [
        {
          "output_type": "stream",
          "name": "stdout",
          "text": [
            "Epoch 1/40\n",
            "620/620 - 30s - loss: 0.4389 - accuracy: 0.8495 - val_loss: 0.3294 - val_accuracy: 0.8915\n",
            "Epoch 2/40\n",
            "620/620 - 27s - loss: 0.2631 - accuracy: 0.9124 - val_loss: 0.2733 - val_accuracy: 0.9007\n",
            "Epoch 3/40\n",
            "620/620 - 27s - loss: 0.2025 - accuracy: 0.9299 - val_loss: 0.3137 - val_accuracy: 0.8933\n",
            "Epoch 4/40\n",
            "620/620 - 27s - loss: 0.1707 - accuracy: 0.9411 - val_loss: 0.3582 - val_accuracy: 0.8961\n",
            "Epoch 5/40\n",
            "620/620 - 27s - loss: 0.1435 - accuracy: 0.9486 - val_loss: 0.3736 - val_accuracy: 0.8788\n",
            "Epoch 6/40\n",
            "620/620 - 27s - loss: 0.1223 - accuracy: 0.9574 - val_loss: 0.4290 - val_accuracy: 0.8870\n",
            "Epoch 7/40\n",
            "620/620 - 28s - loss: 0.1058 - accuracy: 0.9629 - val_loss: 0.4435 - val_accuracy: 0.8780\n",
            "Epoch 8/40\n",
            "620/620 - 28s - loss: 0.0915 - accuracy: 0.9674 - val_loss: 0.4632 - val_accuracy: 0.8830\n",
            "Epoch 9/40\n",
            "620/620 - 28s - loss: 0.0791 - accuracy: 0.9736 - val_loss: 0.5976 - val_accuracy: 0.8669\n",
            "Epoch 10/40\n",
            "620/620 - 27s - loss: 0.0659 - accuracy: 0.9772 - val_loss: 0.5911 - val_accuracy: 0.8644\n",
            "Epoch 11/40\n",
            "620/620 - 27s - loss: 0.0553 - accuracy: 0.9812 - val_loss: 0.6358 - val_accuracy: 0.8685\n",
            "Epoch 12/40\n",
            "620/620 - 27s - loss: 0.0492 - accuracy: 0.9831 - val_loss: 0.7071 - val_accuracy: 0.8701\n",
            "Epoch 13/40\n",
            "620/620 - 27s - loss: 0.0498 - accuracy: 0.9830 - val_loss: 0.6779 - val_accuracy: 0.8693\n",
            "Epoch 14/40\n",
            "620/620 - 27s - loss: 0.0418 - accuracy: 0.9862 - val_loss: 0.7519 - val_accuracy: 0.8652\n",
            "Epoch 15/40\n",
            "620/620 - 27s - loss: 0.0369 - accuracy: 0.9878 - val_loss: 0.7316 - val_accuracy: 0.8580\n",
            "Epoch 16/40\n",
            "620/620 - 27s - loss: 0.0361 - accuracy: 0.9875 - val_loss: 0.8150 - val_accuracy: 0.8689\n",
            "Epoch 17/40\n",
            "620/620 - 27s - loss: 0.0359 - accuracy: 0.9868 - val_loss: 0.8013 - val_accuracy: 0.8634\n",
            "Epoch 18/40\n",
            "620/620 - 27s - loss: 0.0302 - accuracy: 0.9905 - val_loss: 0.8972 - val_accuracy: 0.8638\n",
            "Epoch 19/40\n",
            "620/620 - 27s - loss: 0.0284 - accuracy: 0.9899 - val_loss: 0.9134 - val_accuracy: 0.8705\n",
            "Epoch 20/40\n",
            "620/620 - 27s - loss: 0.0275 - accuracy: 0.9898 - val_loss: 0.8273 - val_accuracy: 0.8667\n",
            "Epoch 21/40\n",
            "620/620 - 27s - loss: 0.0250 - accuracy: 0.9909 - val_loss: 0.9157 - val_accuracy: 0.8642\n",
            "Epoch 22/40\n",
            "620/620 - 27s - loss: 0.0267 - accuracy: 0.9915 - val_loss: 0.8068 - val_accuracy: 0.8652\n",
            "Epoch 23/40\n",
            "620/620 - 27s - loss: 0.0209 - accuracy: 0.9929 - val_loss: 0.9484 - val_accuracy: 0.8665\n",
            "Epoch 24/40\n",
            "620/620 - 27s - loss: 0.0204 - accuracy: 0.9932 - val_loss: 1.0408 - val_accuracy: 0.8525\n",
            "Epoch 25/40\n",
            "620/620 - 28s - loss: 0.0181 - accuracy: 0.9944 - val_loss: 1.1021 - val_accuracy: 0.8693\n",
            "Epoch 26/40\n",
            "620/620 - 27s - loss: 0.0213 - accuracy: 0.9927 - val_loss: 1.0087 - val_accuracy: 0.8594\n",
            "Epoch 27/40\n",
            "620/620 - 27s - loss: 0.0186 - accuracy: 0.9938 - val_loss: 1.0926 - val_accuracy: 0.8695\n",
            "Epoch 28/40\n",
            "620/620 - 27s - loss: 0.0178 - accuracy: 0.9937 - val_loss: 1.1022 - val_accuracy: 0.8620\n",
            "Epoch 29/40\n",
            "620/620 - 27s - loss: 0.0170 - accuracy: 0.9943 - val_loss: 1.0657 - val_accuracy: 0.8642\n",
            "Epoch 30/40\n",
            "620/620 - 27s - loss: 0.0177 - accuracy: 0.9941 - val_loss: 1.1090 - val_accuracy: 0.8610\n",
            "Epoch 31/40\n",
            "620/620 - 27s - loss: 0.0119 - accuracy: 0.9966 - val_loss: 1.1473 - val_accuracy: 0.8749\n",
            "Epoch 32/40\n",
            "620/620 - 27s - loss: 0.0185 - accuracy: 0.9934 - val_loss: 1.1519 - val_accuracy: 0.8594\n",
            "Epoch 33/40\n",
            "620/620 - 27s - loss: 0.0172 - accuracy: 0.9946 - val_loss: 1.0951 - val_accuracy: 0.8614\n",
            "Epoch 34/40\n",
            "620/620 - 27s - loss: 0.0124 - accuracy: 0.9952 - val_loss: 1.1298 - val_accuracy: 0.8660\n",
            "Epoch 35/40\n",
            "620/620 - 27s - loss: 0.0121 - accuracy: 0.9959 - val_loss: 1.2332 - val_accuracy: 0.8703\n",
            "Epoch 36/40\n",
            "620/620 - 27s - loss: 0.0152 - accuracy: 0.9949 - val_loss: 1.1875 - val_accuracy: 0.8660\n",
            "Epoch 37/40\n",
            "620/620 - 27s - loss: 0.0121 - accuracy: 0.9956 - val_loss: 1.1738 - val_accuracy: 0.8703\n",
            "Epoch 38/40\n",
            "620/620 - 27s - loss: 0.0102 - accuracy: 0.9962 - val_loss: 1.2007 - val_accuracy: 0.8491\n",
            "Epoch 39/40\n",
            "620/620 - 27s - loss: 0.0111 - accuracy: 0.9963 - val_loss: 1.1736 - val_accuracy: 0.8636\n",
            "Epoch 40/40\n",
            "620/620 - 28s - loss: 0.0108 - accuracy: 0.9962 - val_loss: 1.1594 - val_accuracy: 0.8596\n"
          ]
        }
      ]
    }
  ]
}